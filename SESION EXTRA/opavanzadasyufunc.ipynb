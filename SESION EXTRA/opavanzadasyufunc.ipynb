{
 "cells": [
  {
   "cell_type": "code",
   "execution_count": 1,
   "id": "3f4b4c49-a6b2-4eee-8c48-bc9b2f3c4dd3",
   "metadata": {},
   "outputs": [],
   "source": [
    "import numpy as np"
   ]
  },
  {
   "cell_type": "code",
   "execution_count": 5,
   "id": "cfe6d25f-b355-401b-b8a9-fd0d3da7a0b7",
   "metadata": {},
   "outputs": [],
   "source": [
    "array1 = np.array([1, 2, 3])\n",
    "array2 = np.array([[0],[10],[20],[30]])"
   ]
  },
  {
   "cell_type": "code",
   "execution_count": 7,
   "id": "792a16e4-f145-4c77-b028-de70f277d61e",
   "metadata": {},
   "outputs": [
    {
     "data": {
      "text/plain": [
       "array([1, 2, 3])"
      ]
     },
     "execution_count": 7,
     "metadata": {},
     "output_type": "execute_result"
    }
   ],
   "source": [
    "array1"
   ]
  },
  {
   "cell_type": "code",
   "execution_count": 9,
   "id": "533e4ab7-a89b-48ac-b086-059d20458d0a",
   "metadata": {},
   "outputs": [
    {
     "data": {
      "text/plain": [
       "array([[ 0],\n",
       "       [10],\n",
       "       [20],\n",
       "       [30]])"
      ]
     },
     "execution_count": 9,
     "metadata": {},
     "output_type": "execute_result"
    }
   ],
   "source": [
    "array2"
   ]
  },
  {
   "cell_type": "code",
   "execution_count": 11,
   "id": "fee2419a-f1c0-45fc-a88e-6cb5e4be26c0",
   "metadata": {},
   "outputs": [],
   "source": [
    "# BROADCAST OPERACION"
   ]
  },
  {
   "cell_type": "code",
   "execution_count": 15,
   "id": "54879465-50a0-48e1-9f99-7671828d0673",
   "metadata": {},
   "outputs": [
    {
     "data": {
      "text/plain": [
       "array([[ 1,  2,  3],\n",
       "       [11, 12, 13],\n",
       "       [21, 22, 23],\n",
       "       [31, 32, 33]])"
      ]
     },
     "execution_count": 15,
     "metadata": {},
     "output_type": "execute_result"
    }
   ],
   "source": [
    "sumatoria = array2 + array1\n",
    "sumatoria"
   ]
  },
  {
   "cell_type": "code",
   "execution_count": 19,
   "id": "c48a4571-cfcf-48bb-8b76-e1f2d9fa0402",
   "metadata": {},
   "outputs": [
    {
     "data": {
      "text/plain": [
       "array([[ 0,  0,  0],\n",
       "       [10, 20, 30],\n",
       "       [20, 40, 60],\n",
       "       [30, 60, 90]])"
      ]
     },
     "execution_count": 19,
     "metadata": {},
     "output_type": "execute_result"
    }
   ],
   "source": [
    "multiplicacion = array2 * array1\n",
    "multiplicacion"
   ]
  },
  {
   "cell_type": "code",
   "execution_count": 21,
   "id": "7c2b6d00-ade1-47ab-b73d-cc36f60bd00c",
   "metadata": {},
   "outputs": [],
   "source": [
    "a = np.array([1, 2, 3])\n",
    "b = np.array([4, 5, 6])"
   ]
  },
  {
   "cell_type": "code",
   "execution_count": 25,
   "id": "26bbb04e-9fb1-4ce3-b736-75334974c72b",
   "metadata": {},
   "outputs": [
    {
     "data": {
      "text/plain": [
       "array([5, 7, 9])"
      ]
     },
     "execution_count": 25,
     "metadata": {},
     "output_type": "execute_result"
    }
   ],
   "source": [
    "resultado = np.add(a, b)\n",
    "resultado"
   ]
  },
  {
   "cell_type": "code",
   "execution_count": 29,
   "id": "587a62d5-1049-4c7a-8c36-3012ebb5b427",
   "metadata": {},
   "outputs": [
    {
     "data": {
      "text/plain": [
       "array([0.        , 0.69314718, 1.09861229])"
      ]
     },
     "execution_count": 29,
     "metadata": {},
     "output_type": "execute_result"
    }
   ],
   "source": [
    "resultado_log = np.log(a)\n",
    "resultado_log"
   ]
  },
  {
   "cell_type": "code",
   "execution_count": 31,
   "id": "5e71f7b2-2bab-43c8-ba52-92ceec810a07",
   "metadata": {},
   "outputs": [
    {
     "data": {
      "text/plain": [
       "array([0.60205999, 0.69897   , 0.77815125])"
      ]
     },
     "execution_count": 31,
     "metadata": {},
     "output_type": "execute_result"
    }
   ],
   "source": [
    "resultado_log_base = np.log10(b)\n",
    "resultado_log_base"
   ]
  },
  {
   "cell_type": "code",
   "execution_count": 33,
   "id": "f2c419fe-1668-4229-b46f-21fb0c954753",
   "metadata": {},
   "outputs": [
    {
     "data": {
      "text/plain": [
       "array([1.        , 1.41421356, 1.73205081])"
      ]
     },
     "execution_count": 33,
     "metadata": {},
     "output_type": "execute_result"
    }
   ],
   "source": [
    "raiz = np.sqrt(a)\n",
    "raiz"
   ]
  },
  {
   "cell_type": "code",
   "execution_count": 37,
   "id": "720d17e3-6c45-4140-99a3-d0d6e611285a",
   "metadata": {},
   "outputs": [
    {
     "data": {
      "text/plain": [
       "array([ 4, 10, 18])"
      ]
     },
     "execution_count": 37,
     "metadata": {},
     "output_type": "execute_result"
    }
   ],
   "source": [
    "multiplar = np.multiply(a, b)\n",
    "multiplar"
   ]
  },
  {
   "cell_type": "code",
   "execution_count": null,
   "id": "d8d32ca1-1a1b-477d-a9fd-4f55d83c6bf2",
   "metadata": {},
   "outputs": [],
   "source": []
  }
 ],
 "metadata": {
  "kernelspec": {
   "display_name": "Python [conda env:base] *",
   "language": "python",
   "name": "conda-base-py"
  },
  "language_info": {
   "codemirror_mode": {
    "name": "ipython",
    "version": 3
   },
   "file_extension": ".py",
   "mimetype": "text/x-python",
   "name": "python",
   "nbconvert_exporter": "python",
   "pygments_lexer": "ipython3",
   "version": "3.12.7"
  }
 },
 "nbformat": 4,
 "nbformat_minor": 5
}
