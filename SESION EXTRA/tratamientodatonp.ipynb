{
 "cells": [
  {
   "cell_type": "code",
   "execution_count": 1,
   "id": "b007c70c-3589-4e6a-8d98-9c914dc04bcc",
   "metadata": {},
   "outputs": [],
   "source": [
    "import numpy as np"
   ]
  },
  {
   "cell_type": "code",
   "execution_count": 48,
   "id": "c2ae5ee9-9983-4116-850f-87b1b8538d1c",
   "metadata": {},
   "outputs": [
    {
     "data": {
      "text/plain": [
       "array([ 1.,  2., nan,  4.,  5.])"
      ]
     },
     "execution_count": 48,
     "metadata": {},
     "output_type": "execute_result"
    }
   ],
   "source": [
    "array = np.array([1, 2, np.nan, 4, 5])\n",
    "array"
   ]
  },
  {
   "cell_type": "code",
   "execution_count": 60,
   "id": "4b83be8f-e563-4964-8774-d27d6c767e55",
   "metadata": {},
   "outputs": [
    {
     "data": {
      "text/plain": [
       "array([False, False,  True, False, False])"
      ]
     },
     "execution_count": 60,
     "metadata": {},
     "output_type": "execute_result"
    }
   ],
   "source": [
    "np.isnan(array)"
   ]
  },
  {
   "cell_type": "code",
   "execution_count": 52,
   "id": "ee594221-f07c-4d77-8539-7501a5818aac",
   "metadata": {},
   "outputs": [
    {
     "data": {
      "text/plain": [
       "nan"
      ]
     },
     "execution_count": 52,
     "metadata": {},
     "output_type": "execute_result"
    }
   ],
   "source": [
    "np.mean(array)"
   ]
  },
  {
   "cell_type": "code",
   "execution_count": 54,
   "id": "7d85d308-3a88-4a48-9ac1-9a83117376bc",
   "metadata": {},
   "outputs": [
    {
     "data": {
      "text/plain": [
       "3.0"
      ]
     },
     "execution_count": 54,
     "metadata": {},
     "output_type": "execute_result"
    }
   ],
   "source": [
    "np.nanmean(array)"
   ]
  },
  {
   "cell_type": "code",
   "execution_count": 56,
   "id": "3703445e-1550-4686-b938-a09726bdc8bc",
   "metadata": {},
   "outputs": [
    {
     "data": {
      "text/plain": [
       "array([1., 2., 0., 4., 5.])"
      ]
     },
     "execution_count": 56,
     "metadata": {},
     "output_type": "execute_result"
    }
   ],
   "source": [
    "array_nan_sus = np.where(np.isnan(array), 0, array)\n",
    "array_nan_sus"
   ]
  },
  {
   "cell_type": "code",
   "execution_count": 58,
   "id": "3de73196-16de-4054-9f82-f8a9d0011945",
   "metadata": {},
   "outputs": [
    {
     "data": {
      "text/plain": [
       "array([1., 2., 3., 4., 5.])"
      ]
     },
     "execution_count": 58,
     "metadata": {},
     "output_type": "execute_result"
    }
   ],
   "source": [
    "nuevo_promedio = np.nanmean(array)\n",
    "array_promedio_sus = np.where(np.isnan(array), nuevo_promedio, array)\n",
    "array_promedio_sus"
   ]
  },
  {
   "cell_type": "code",
   "execution_count": 62,
   "id": "15d69c1d-0866-49e2-b976-94ffed894a47",
   "metadata": {},
   "outputs": [
    {
     "data": {
      "text/plain": [
       "array([nan])"
      ]
     },
     "execution_count": 62,
     "metadata": {},
     "output_type": "execute_result"
    }
   ],
   "source": [
    "array_del = array[np.isnan(array)]\n",
    "array_del"
   ]
  },
  {
   "cell_type": "code",
   "execution_count": 64,
   "id": "4672fd2b-373c-4f8b-ab43-001348a61b25",
   "metadata": {},
   "outputs": [
    {
     "data": {
      "text/plain": [
       "array([1., 2., 4., 5.])"
      ]
     },
     "execution_count": 64,
     "metadata": {},
     "output_type": "execute_result"
    }
   ],
   "source": [
    "array_del = array[~np.isnan(array)]\n",
    "array_del"
   ]
  },
  {
   "cell_type": "code",
   "execution_count": null,
   "id": "5dc53e77-e9a2-45a4-a56c-d6c65755e736",
   "metadata": {},
   "outputs": [],
   "source": []
  }
 ],
 "metadata": {
  "kernelspec": {
   "display_name": "Python [conda env:base] *",
   "language": "python",
   "name": "conda-base-py"
  },
  "language_info": {
   "codemirror_mode": {
    "name": "ipython",
    "version": 3
   },
   "file_extension": ".py",
   "mimetype": "text/x-python",
   "name": "python",
   "nbconvert_exporter": "python",
   "pygments_lexer": "ipython3",
   "version": "3.12.7"
  }
 },
 "nbformat": 4,
 "nbformat_minor": 5
}
