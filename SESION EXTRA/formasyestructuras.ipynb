{
 "cells": [
  {
   "cell_type": "code",
   "execution_count": 1,
   "id": "76841eca-d915-4606-b26f-8f6ab78ad2db",
   "metadata": {},
   "outputs": [],
   "source": [
    "import numpy as np"
   ]
  },
  {
   "cell_type": "code",
   "execution_count": 5,
   "id": "18701339-ba26-49c2-a243-6160ac385e74",
   "metadata": {},
   "outputs": [
    {
     "data": {
      "text/plain": [
       "array([1, 2, 3, 4, 5, 6, 7, 8, 9])"
      ]
     },
     "execution_count": 5,
     "metadata": {},
     "output_type": "execute_result"
    }
   ],
   "source": [
    "array = np.array([1, 2, 3, 4, 5, 6, 7, 8, 9])\n",
    "array"
   ]
  },
  {
   "cell_type": "code",
   "execution_count": 7,
   "id": "5c95cfed-580b-4577-9acc-6b0a1459e14e",
   "metadata": {},
   "outputs": [
    {
     "data": {
      "text/plain": [
       "(9,)"
      ]
     },
     "execution_count": 7,
     "metadata": {},
     "output_type": "execute_result"
    }
   ],
   "source": [
    "array.shape"
   ]
  },
  {
   "cell_type": "code",
   "execution_count": 9,
   "id": "1d403993-9668-4825-adde-ea42ead1994a",
   "metadata": {},
   "outputs": [
    {
     "data": {
      "text/plain": [
       "array([[1, 2, 3],\n",
       "       [4, 5, 6],\n",
       "       [7, 8, 9]])"
      ]
     },
     "execution_count": 9,
     "metadata": {},
     "output_type": "execute_result"
    }
   ],
   "source": [
    "array_modificada = array.reshape(3, 3)\n",
    "array_modificada"
   ]
  },
  {
   "cell_type": "code",
   "execution_count": 17,
   "id": "6987fe8d-4df6-4e14-a20a-8effbd2fb2b4",
   "metadata": {},
   "outputs": [
    {
     "data": {
      "text/plain": [
       "array([[1, 2, 3],\n",
       "       [4, 5, 6],\n",
       "       [7, 8, 9]])"
      ]
     },
     "execution_count": 17,
     "metadata": {},
     "output_type": "execute_result"
    }
   ],
   "source": [
    "array_modificada = array.reshape(-1, 3)\n",
    "array_modificada"
   ]
  },
  {
   "cell_type": "code",
   "execution_count": 19,
   "id": "9f11a939-fd64-452a-bf39-03a8f48ce062",
   "metadata": {},
   "outputs": [
    {
     "data": {
      "text/plain": [
       "array([[1, 4, 7],\n",
       "       [2, 5, 8],\n",
       "       [3, 6, 9]])"
      ]
     },
     "execution_count": 19,
     "metadata": {},
     "output_type": "execute_result"
    }
   ],
   "source": [
    "array_reversa = array_modificada.transpose()\n",
    "array_reversa"
   ]
  },
  {
   "cell_type": "code",
   "execution_count": 21,
   "id": "4e31c274-f975-4216-bcc7-bd60ffae8e56",
   "metadata": {},
   "outputs": [],
   "source": [
    "# METODO FLATTEN()   METODO RAVEL()"
   ]
  },
  {
   "cell_type": "code",
   "execution_count": 25,
   "id": "34f1c812-8c8d-4df1-b4a7-5101d9b61259",
   "metadata": {},
   "outputs": [
    {
     "data": {
      "text/plain": [
       "array([1, 2, 3, 4, 5, 6, 7, 8, 9])"
      ]
     },
     "execution_count": 25,
     "metadata": {},
     "output_type": "execute_result"
    }
   ],
   "source": [
    "array_copia = array.flatten()\n",
    "array_copia"
   ]
  },
  {
   "cell_type": "code",
   "execution_count": 27,
   "id": "930c18eb-c29f-4aed-a37c-b2cab91f9326",
   "metadata": {},
   "outputs": [
    {
     "data": {
      "text/plain": [
       "array([1, 2, 3, 4, 5, 6, 7, 8, 9])"
      ]
     },
     "execution_count": 27,
     "metadata": {},
     "output_type": "execute_result"
    }
   ],
   "source": [
    "array_visual = array.ravel()\n",
    "array_visual"
   ]
  },
  {
   "cell_type": "code",
   "execution_count": null,
   "id": "fef667ac-c033-4588-9ee9-bbe6fd0f0fad",
   "metadata": {},
   "outputs": [],
   "source": []
  }
 ],
 "metadata": {
  "kernelspec": {
   "display_name": "Python [conda env:base] *",
   "language": "python",
   "name": "conda-base-py"
  },
  "language_info": {
   "codemirror_mode": {
    "name": "ipython",
    "version": 3
   },
   "file_extension": ".py",
   "mimetype": "text/x-python",
   "name": "python",
   "nbconvert_exporter": "python",
   "pygments_lexer": "ipython3",
   "version": "3.12.7"
  }
 },
 "nbformat": 4,
 "nbformat_minor": 5
}
