{
 "cells": [
  {
   "cell_type": "code",
   "execution_count": 1,
   "id": "14f11f29-9d30-405b-aa51-ecf8a6d07d05",
   "metadata": {},
   "outputs": [],
   "source": [
    "import pandas as pd"
   ]
  },
  {
   "cell_type": "code",
   "execution_count": 41,
   "id": "7c4c2ff0-fdb1-4c7f-9406-7310fbbfc875",
   "metadata": {},
   "outputs": [
    {
     "data": {
      "text/plain": [
       "[10, 20, 30, 40, 50]"
      ]
     },
     "execution_count": 41,
     "metadata": {},
     "output_type": "execute_result"
    }
   ],
   "source": [
    "serie = [10, 20, 30, 40, 50]\n",
    "serie"
   ]
  },
  {
   "cell_type": "code",
   "execution_count": 57,
   "id": "72d886a8-017a-4d03-927b-dcb708a8add7",
   "metadata": {},
   "outputs": [
    {
     "data": {
      "text/plain": [
       "[40, 20, 30, 40, 50, 10, 10]"
      ]
     },
     "execution_count": 57,
     "metadata": {},
     "output_type": "execute_result"
    }
   ],
   "source": [
    "serie[0] = serie[0] + 10\n",
    "serie"
   ]
  },
  {
   "cell_type": "code",
   "execution_count": 63,
   "id": "3f60e86b-20bd-44a0-aca4-b5d434a40f78",
   "metadata": {},
   "outputs": [
    {
     "data": {
      "text/plain": [
       "[40, 20, 30, 40, 50, 10, 10, 40, 20, 30, 40, 50, 10, 10, 10]"
      ]
     },
     "execution_count": 63,
     "metadata": {},
     "output_type": "execute_result"
    }
   ],
   "source": [
    "serie = serie + [10]\n",
    "serie"
   ]
  },
  {
   "cell_type": "code",
   "execution_count": 59,
   "id": "85fd782c-e76c-4561-b4f7-5f0fd4791dfd",
   "metadata": {},
   "outputs": [
    {
     "data": {
      "text/plain": [
       "[40, 20, 30, 40, 50, 10, 10, 40, 20, 30, 40, 50, 10, 10]"
      ]
     },
     "execution_count": 59,
     "metadata": {},
     "output_type": "execute_result"
    }
   ],
   "source": [
    "serie = serie * 2\n",
    "serie"
   ]
  },
  {
   "cell_type": "code",
   "execution_count": null,
   "id": "01695233-5a92-4256-8a44-7292ca9614e3",
   "metadata": {},
   "outputs": [],
   "source": []
  }
 ],
 "metadata": {
  "kernelspec": {
   "display_name": "Python [conda env:base] *",
   "language": "python",
   "name": "conda-base-py"
  },
  "language_info": {
   "codemirror_mode": {
    "name": "ipython",
    "version": 3
   },
   "file_extension": ".py",
   "mimetype": "text/x-python",
   "name": "python",
   "nbconvert_exporter": "python",
   "pygments_lexer": "ipython3",
   "version": "3.12.7"
  }
 },
 "nbformat": 4,
 "nbformat_minor": 5
}
