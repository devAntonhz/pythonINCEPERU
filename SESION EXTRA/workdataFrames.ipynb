{
 "cells": [
  {
   "cell_type": "code",
   "execution_count": 4,
   "id": "c0e652ec-306b-4e42-9082-650429c17890",
   "metadata": {},
   "outputs": [],
   "source": [
    "import pandas as pd"
   ]
  },
  {
   "cell_type": "code",
   "execution_count": 6,
   "id": "bf574fdc-25f7-4771-b306-91d8bff8d281",
   "metadata": {},
   "outputs": [
    {
     "data": {
      "text/html": [
       "<div>\n",
       "<style scoped>\n",
       "    .dataframe tbody tr th:only-of-type {\n",
       "        vertical-align: middle;\n",
       "    }\n",
       "\n",
       "    .dataframe tbody tr th {\n",
       "        vertical-align: top;\n",
       "    }\n",
       "\n",
       "    .dataframe thead th {\n",
       "        text-align: right;\n",
       "    }\n",
       "</style>\n",
       "<table border=\"1\" class=\"dataframe\">\n",
       "  <thead>\n",
       "    <tr style=\"text-align: right;\">\n",
       "      <th></th>\n",
       "      <th>Nombre</th>\n",
       "      <th>Edad</th>\n",
       "      <th>Ciudad</th>\n",
       "    </tr>\n",
       "  </thead>\n",
       "  <tbody>\n",
       "    <tr>\n",
       "      <th>0</th>\n",
       "      <td>Juana</td>\n",
       "      <td>20</td>\n",
       "      <td>Lima</td>\n",
       "    </tr>\n",
       "    <tr>\n",
       "      <th>1</th>\n",
       "      <td>Carla</td>\n",
       "      <td>24</td>\n",
       "      <td>Iquitos</td>\n",
       "    </tr>\n",
       "    <tr>\n",
       "      <th>2</th>\n",
       "      <td>Rosa</td>\n",
       "      <td>32</td>\n",
       "      <td>Cusco</td>\n",
       "    </tr>\n",
       "    <tr>\n",
       "      <th>3</th>\n",
       "      <td>Maria</td>\n",
       "      <td>42</td>\n",
       "      <td>Lambayeque</td>\n",
       "    </tr>\n",
       "  </tbody>\n",
       "</table>\n",
       "</div>"
      ],
      "text/plain": [
       "  Nombre  Edad      Ciudad\n",
       "0  Juana    20        Lima\n",
       "1  Carla    24     Iquitos\n",
       "2   Rosa    32       Cusco\n",
       "3  Maria    42  Lambayeque"
      ]
     },
     "execution_count": 6,
     "metadata": {},
     "output_type": "execute_result"
    }
   ],
   "source": [
    "data = {\n",
    "    \"Nombre\": [\"Juana\", \"Carla\", \"Rosa\", \"Maria\"],\n",
    "    \"Edad\": [20, 24, 32, 42],\n",
    "    \"Ciudad\": [\"Lima\", \"Iquitos\", \"Cusco\", \"Lambayeque\"]\n",
    "}\n",
    "df = pd.DataFrame(data)\n",
    "df"
   ]
  },
  {
   "cell_type": "code",
   "execution_count": 8,
   "id": "246e0bf9-abfb-48c6-a143-2f86df9359c0",
   "metadata": {},
   "outputs": [],
   "source": [
    "df[\"Telefono\"] = [894894, 98498489, 4894849, 89489489]"
   ]
  },
  {
   "cell_type": "code",
   "execution_count": 12,
   "id": "fff6a024-1da9-4db8-9c50-d3ec22f8446c",
   "metadata": {},
   "outputs": [
    {
     "data": {
      "text/html": [
       "<div>\n",
       "<style scoped>\n",
       "    .dataframe tbody tr th:only-of-type {\n",
       "        vertical-align: middle;\n",
       "    }\n",
       "\n",
       "    .dataframe tbody tr th {\n",
       "        vertical-align: top;\n",
       "    }\n",
       "\n",
       "    .dataframe thead th {\n",
       "        text-align: right;\n",
       "    }\n",
       "</style>\n",
       "<table border=\"1\" class=\"dataframe\">\n",
       "  <thead>\n",
       "    <tr style=\"text-align: right;\">\n",
       "      <th></th>\n",
       "      <th>Nombre</th>\n",
       "      <th>Edad</th>\n",
       "      <th>Ciudad</th>\n",
       "      <th>Telefono</th>\n",
       "    </tr>\n",
       "  </thead>\n",
       "  <tbody>\n",
       "    <tr>\n",
       "      <th>0</th>\n",
       "      <td>Juana</td>\n",
       "      <td>20</td>\n",
       "      <td>Lima</td>\n",
       "      <td>894894</td>\n",
       "    </tr>\n",
       "    <tr>\n",
       "      <th>1</th>\n",
       "      <td>Carla</td>\n",
       "      <td>24</td>\n",
       "      <td>Iquitos</td>\n",
       "      <td>98498489</td>\n",
       "    </tr>\n",
       "    <tr>\n",
       "      <th>2</th>\n",
       "      <td>Rosa</td>\n",
       "      <td>32</td>\n",
       "      <td>Cusco</td>\n",
       "      <td>4894849</td>\n",
       "    </tr>\n",
       "    <tr>\n",
       "      <th>3</th>\n",
       "      <td>Maria</td>\n",
       "      <td>42</td>\n",
       "      <td>Lambayeque</td>\n",
       "      <td>89489489</td>\n",
       "    </tr>\n",
       "  </tbody>\n",
       "</table>\n",
       "</div>"
      ],
      "text/plain": [
       "  Nombre  Edad      Ciudad  Telefono\n",
       "0  Juana    20        Lima    894894\n",
       "1  Carla    24     Iquitos  98498489\n",
       "2   Rosa    32       Cusco   4894849\n",
       "3  Maria    42  Lambayeque  89489489"
      ]
     },
     "execution_count": 12,
     "metadata": {},
     "output_type": "execute_result"
    }
   ],
   "source": [
    "df"
   ]
  },
  {
   "cell_type": "code",
   "execution_count": 14,
   "id": "05a425ad-6e72-49a4-a1cd-27e107818d35",
   "metadata": {},
   "outputs": [],
   "source": [
    "df[\"Telefono\"] = df[\"Telefono\"] + 50"
   ]
  },
  {
   "cell_type": "code",
   "execution_count": 16,
   "id": "0b281cd1-f008-47b0-b422-033e12c8d30b",
   "metadata": {},
   "outputs": [
    {
     "data": {
      "text/html": [
       "<div>\n",
       "<style scoped>\n",
       "    .dataframe tbody tr th:only-of-type {\n",
       "        vertical-align: middle;\n",
       "    }\n",
       "\n",
       "    .dataframe tbody tr th {\n",
       "        vertical-align: top;\n",
       "    }\n",
       "\n",
       "    .dataframe thead th {\n",
       "        text-align: right;\n",
       "    }\n",
       "</style>\n",
       "<table border=\"1\" class=\"dataframe\">\n",
       "  <thead>\n",
       "    <tr style=\"text-align: right;\">\n",
       "      <th></th>\n",
       "      <th>Nombre</th>\n",
       "      <th>Edad</th>\n",
       "      <th>Ciudad</th>\n",
       "      <th>Telefono</th>\n",
       "    </tr>\n",
       "  </thead>\n",
       "  <tbody>\n",
       "    <tr>\n",
       "      <th>0</th>\n",
       "      <td>Juana</td>\n",
       "      <td>20</td>\n",
       "      <td>Lima</td>\n",
       "      <td>894944</td>\n",
       "    </tr>\n",
       "    <tr>\n",
       "      <th>1</th>\n",
       "      <td>Carla</td>\n",
       "      <td>24</td>\n",
       "      <td>Iquitos</td>\n",
       "      <td>98498539</td>\n",
       "    </tr>\n",
       "    <tr>\n",
       "      <th>2</th>\n",
       "      <td>Rosa</td>\n",
       "      <td>32</td>\n",
       "      <td>Cusco</td>\n",
       "      <td>4894899</td>\n",
       "    </tr>\n",
       "    <tr>\n",
       "      <th>3</th>\n",
       "      <td>Maria</td>\n",
       "      <td>42</td>\n",
       "      <td>Lambayeque</td>\n",
       "      <td>89489539</td>\n",
       "    </tr>\n",
       "  </tbody>\n",
       "</table>\n",
       "</div>"
      ],
      "text/plain": [
       "  Nombre  Edad      Ciudad  Telefono\n",
       "0  Juana    20        Lima    894944\n",
       "1  Carla    24     Iquitos  98498539\n",
       "2   Rosa    32       Cusco   4894899\n",
       "3  Maria    42  Lambayeque  89489539"
      ]
     },
     "execution_count": 16,
     "metadata": {},
     "output_type": "execute_result"
    }
   ],
   "source": [
    "df"
   ]
  },
  {
   "cell_type": "code",
   "execution_count": 18,
   "id": "21bea152-f3ae-41da-bf87-73ab74fdc5e7",
   "metadata": {},
   "outputs": [
    {
     "data": {
      "text/plain": [
       "0    Juana\n",
       "1    Carla\n",
       "2     Rosa\n",
       "3    Maria\n",
       "Name: Nombre, dtype: object"
      ]
     },
     "execution_count": 18,
     "metadata": {},
     "output_type": "execute_result"
    }
   ],
   "source": [
    "nombres = df[\"Nombre\"]\n",
    "nombres"
   ]
  },
  {
   "cell_type": "code",
   "execution_count": 20,
   "id": "f86232e4-b736-4665-8e2d-8dac8e35bc53",
   "metadata": {},
   "outputs": [
    {
     "data": {
      "text/html": [
       "<div>\n",
       "<style scoped>\n",
       "    .dataframe tbody tr th:only-of-type {\n",
       "        vertical-align: middle;\n",
       "    }\n",
       "\n",
       "    .dataframe tbody tr th {\n",
       "        vertical-align: top;\n",
       "    }\n",
       "\n",
       "    .dataframe thead th {\n",
       "        text-align: right;\n",
       "    }\n",
       "</style>\n",
       "<table border=\"1\" class=\"dataframe\">\n",
       "  <thead>\n",
       "    <tr style=\"text-align: right;\">\n",
       "      <th></th>\n",
       "      <th>Nombre</th>\n",
       "      <th>Edad</th>\n",
       "      <th>Ciudad</th>\n",
       "      <th>Telefono</th>\n",
       "    </tr>\n",
       "  </thead>\n",
       "  <tbody>\n",
       "    <tr>\n",
       "      <th>2</th>\n",
       "      <td>Rosa</td>\n",
       "      <td>32</td>\n",
       "      <td>Cusco</td>\n",
       "      <td>4894899</td>\n",
       "    </tr>\n",
       "    <tr>\n",
       "      <th>3</th>\n",
       "      <td>Maria</td>\n",
       "      <td>42</td>\n",
       "      <td>Lambayeque</td>\n",
       "      <td>89489539</td>\n",
       "    </tr>\n",
       "  </tbody>\n",
       "</table>\n",
       "</div>"
      ],
      "text/plain": [
       "  Nombre  Edad      Ciudad  Telefono\n",
       "2   Rosa    32       Cusco   4894899\n",
       "3  Maria    42  Lambayeque  89489539"
      ]
     },
     "execution_count": 20,
     "metadata": {},
     "output_type": "execute_result"
    }
   ],
   "source": [
    "mayores_25 = df[df[\"Edad\"] > 25]\n",
    "mayores_25"
   ]
  },
  {
   "cell_type": "code",
   "execution_count": 22,
   "id": "178ab659-4007-4c3b-a6b7-e84e35c19d97",
   "metadata": {},
   "outputs": [
    {
     "data": {
      "text/plain": [
       "0    20\n",
       "1    24\n",
       "2    32\n",
       "3    42\n",
       "Name: Edad, dtype: int64"
      ]
     },
     "execution_count": 22,
     "metadata": {},
     "output_type": "execute_result"
    }
   ],
   "source": [
    "edades = df[\"Edad\"]\n",
    "edades"
   ]
  },
  {
   "cell_type": "code",
   "execution_count": 32,
   "id": "2dc0f79c-0ac5-407a-997a-8df58977e868",
   "metadata": {},
   "outputs": [
    {
     "data": {
      "text/html": [
       "<div>\n",
       "<style scoped>\n",
       "    .dataframe tbody tr th:only-of-type {\n",
       "        vertical-align: middle;\n",
       "    }\n",
       "\n",
       "    .dataframe tbody tr th {\n",
       "        vertical-align: top;\n",
       "    }\n",
       "\n",
       "    .dataframe thead th {\n",
       "        text-align: right;\n",
       "    }\n",
       "</style>\n",
       "<table border=\"1\" class=\"dataframe\">\n",
       "  <thead>\n",
       "    <tr style=\"text-align: right;\">\n",
       "      <th></th>\n",
       "      <th>Nombre</th>\n",
       "      <th>Edad</th>\n",
       "      <th>Ciudad</th>\n",
       "      <th>Telefono</th>\n",
       "    </tr>\n",
       "  </thead>\n",
       "  <tbody>\n",
       "    <tr>\n",
       "      <th>3</th>\n",
       "      <td>Maria</td>\n",
       "      <td>42</td>\n",
       "      <td>Lambayeque</td>\n",
       "      <td>89489539</td>\n",
       "    </tr>\n",
       "  </tbody>\n",
       "</table>\n",
       "</div>"
      ],
      "text/plain": [
       "  Nombre  Edad      Ciudad  Telefono\n",
       "3  Maria    42  Lambayeque  89489539"
      ]
     },
     "execution_count": 32,
     "metadata": {},
     "output_type": "execute_result"
    }
   ],
   "source": [
    "mayores_10 = df[edades > 40]\n",
    "mayores_10"
   ]
  },
  {
   "cell_type": "code",
   "execution_count": 34,
   "id": "b1eb2c21-ddf4-480f-b7c9-7ac0920f91e1",
   "metadata": {},
   "outputs": [
    {
     "data": {
      "text/plain": [
       "pandas.core.frame.DataFrame"
      ]
     },
     "execution_count": 34,
     "metadata": {},
     "output_type": "execute_result"
    }
   ],
   "source": [
    "type(df)"
   ]
  },
  {
   "cell_type": "code",
   "execution_count": 36,
   "id": "ec3a798e-b68f-4aa7-8872-0a3eb1312d4c",
   "metadata": {},
   "outputs": [
    {
     "data": {
      "text/plain": [
       "pandas.core.series.Series"
      ]
     },
     "execution_count": 36,
     "metadata": {},
     "output_type": "execute_result"
    }
   ],
   "source": [
    "type(edades)"
   ]
  },
  {
   "cell_type": "code",
   "execution_count": 38,
   "id": "75390773-fdc4-4a70-a184-29d9aa294ab5",
   "metadata": {},
   "outputs": [
    {
     "data": {
      "text/plain": [
       "pandas.core.frame.DataFrame"
      ]
     },
     "execution_count": 38,
     "metadata": {},
     "output_type": "execute_result"
    }
   ],
   "source": [
    "type(mayores_10)"
   ]
  },
  {
   "cell_type": "code",
   "execution_count": null,
   "id": "2f1f2a5d-0aad-4559-927d-422d8de98a00",
   "metadata": {},
   "outputs": [],
   "source": []
  }
 ],
 "metadata": {
  "kernelspec": {
   "display_name": "Python [conda env:base] *",
   "language": "python",
   "name": "conda-base-py"
  },
  "language_info": {
   "codemirror_mode": {
    "name": "ipython",
    "version": 3
   },
   "file_extension": ".py",
   "mimetype": "text/x-python",
   "name": "python",
   "nbconvert_exporter": "python",
   "pygments_lexer": "ipython3",
   "version": "3.12.7"
  }
 },
 "nbformat": 4,
 "nbformat_minor": 5
}
