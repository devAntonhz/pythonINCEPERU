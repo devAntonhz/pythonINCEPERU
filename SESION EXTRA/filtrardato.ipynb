{
 "cells": [
  {
   "cell_type": "code",
   "execution_count": 1,
   "id": "5f760372-92af-4c14-8759-f99fb6743df0",
   "metadata": {},
   "outputs": [],
   "source": [
    "import pandas as pd"
   ]
  },
  {
   "cell_type": "code",
   "execution_count": 3,
   "id": "5d3821db-dd57-4176-abb0-284abcb359f0",
   "metadata": {},
   "outputs": [
    {
     "data": {
      "text/plain": [
       "[10, 20, 30, 40, 50]"
      ]
     },
     "execution_count": 3,
     "metadata": {},
     "output_type": "execute_result"
    }
   ],
   "source": [
    "serie = [10, 20, 30, 40, 50]\n",
    "serie"
   ]
  },
  {
   "cell_type": "code",
   "execution_count": 19,
   "id": "3c7902e7-d81d-49f3-b625-4d0190d6493e",
   "metadata": {},
   "outputs": [
    {
     "data": {
      "text/plain": [
       "0    10\n",
       "1    20\n",
       "2    30\n",
       "3    40\n",
       "4    50\n",
       "dtype: int64"
      ]
     },
     "execution_count": 19,
     "metadata": {},
     "output_type": "execute_result"
    }
   ],
   "source": [
    "serie = pd.Series(serie)\n",
    "serie"
   ]
  },
  {
   "cell_type": "code",
   "execution_count": 21,
   "id": "fb7a64e2-dade-4184-abc6-c2e0515971b2",
   "metadata": {},
   "outputs": [
    {
     "data": {
      "text/plain": [
       "3    40\n",
       "4    50\n",
       "dtype: int64"
      ]
     },
     "execution_count": 21,
     "metadata": {},
     "output_type": "execute_result"
    }
   ],
   "source": [
    "filtro = serie > 30\n",
    "serie_filtrada = serie[filtro]\n",
    "serie_filtrada"
   ]
  },
  {
   "cell_type": "code",
   "execution_count": null,
   "id": "968864b2-f2cf-4b75-8175-2e8f941f666a",
   "metadata": {},
   "outputs": [],
   "source": []
  },
  {
   "cell_type": "code",
   "execution_count": 25,
   "id": "11e39235-7b15-4864-ad53-5aef34ab7a01",
   "metadata": {},
   "outputs": [
    {
     "data": {
      "text/plain": [
       "0    platano\n",
       "1        uva\n",
       "2      melon\n",
       "3       pera\n",
       "4    manzana\n",
       "dtype: object"
      ]
     },
     "execution_count": 25,
     "metadata": {},
     "output_type": "execute_result"
    }
   ],
   "source": [
    "serie2 = pd.Series([\"platano\", \"uva\", \"melon\", \"pera\", \"manzana\"])\n",
    "serie2"
   ]
  },
  {
   "cell_type": "code",
   "execution_count": 29,
   "id": "97958cd3-ca21-41fa-9aab-efb97fb59a70",
   "metadata": {},
   "outputs": [
    {
     "data": {
      "text/plain": [
       "0    False\n",
       "1    False\n",
       "2     True\n",
       "3    False\n",
       "4     True\n",
       "dtype: bool"
      ]
     },
     "execution_count": 29,
     "metadata": {},
     "output_type": "execute_result"
    }
   ],
   "source": [
    "filtro2 = serie2.str.contains(\"m\")\n",
    "filtro2\n"
   ]
  },
  {
   "cell_type": "code",
   "execution_count": 31,
   "id": "564b49ab-b809-445b-80c3-20e1fd1f7e1b",
   "metadata": {},
   "outputs": [
    {
     "data": {
      "text/plain": [
       "2    True\n",
       "4    True\n",
       "dtype: bool"
      ]
     },
     "execution_count": 31,
     "metadata": {},
     "output_type": "execute_result"
    }
   ],
   "source": [
    "filtro2[filtro2]"
   ]
  },
  {
   "cell_type": "code",
   "execution_count": null,
   "id": "cb7c34df-9363-4582-8417-ab02d4204633",
   "metadata": {},
   "outputs": [],
   "source": []
  }
 ],
 "metadata": {
  "kernelspec": {
   "display_name": "Python [conda env:base] *",
   "language": "python",
   "name": "conda-base-py"
  },
  "language_info": {
   "codemirror_mode": {
    "name": "ipython",
    "version": 3
   },
   "file_extension": ".py",
   "mimetype": "text/x-python",
   "name": "python",
   "nbconvert_exporter": "python",
   "pygments_lexer": "ipython3",
   "version": "3.12.7"
  }
 },
 "nbformat": 4,
 "nbformat_minor": 5
}
