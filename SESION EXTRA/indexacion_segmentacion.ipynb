{
 "cells": [
  {
   "cell_type": "code",
   "execution_count": 1,
   "id": "bc64e178-f4d7-40bd-8646-09374f4e79ea",
   "metadata": {},
   "outputs": [],
   "source": [
    "import numpy as np"
   ]
  },
  {
   "cell_type": "code",
   "execution_count": 3,
   "id": "e004da56-1aba-417e-8693-f4b1b2da6574",
   "metadata": {},
   "outputs": [],
   "source": [
    "array1d = np.array([1, 2, 3, 4, 5])"
   ]
  },
  {
   "cell_type": "code",
   "execution_count": 5,
   "id": "126651f4-8ff0-4e5b-b979-f8311d78db40",
   "metadata": {},
   "outputs": [],
   "source": [
    "array2d = np.array([[1, 2, 3],\n",
    "                    [4, 5, 6],\n",
    "                    [7, 8, 9]])"
   ]
  },
  {
   "cell_type": "code",
   "execution_count": 11,
   "id": "55cc4d50-50e8-4e2b-af91-b9620fee73d8",
   "metadata": {},
   "outputs": [
    {
     "data": {
      "text/plain": [
       "3"
      ]
     },
     "execution_count": 11,
     "metadata": {},
     "output_type": "execute_result"
    }
   ],
   "source": [
    "array1d[2]"
   ]
  },
  {
   "cell_type": "code",
   "execution_count": 15,
   "id": "cc047d06-371b-4829-baab-35009eb4d1a3",
   "metadata": {},
   "outputs": [
    {
     "data": {
      "text/plain": [
       "3"
      ]
     },
     "execution_count": 15,
     "metadata": {},
     "output_type": "execute_result"
    }
   ],
   "source": [
    "array2d[0][-1]"
   ]
  },
  {
   "cell_type": "code",
   "execution_count": 17,
   "id": "37c57f62-dc81-41dd-94cd-39bb9ba457bc",
   "metadata": {},
   "outputs": [
    {
     "data": {
      "text/plain": [
       "array([2, 3, 4])"
      ]
     },
     "execution_count": 17,
     "metadata": {},
     "output_type": "execute_result"
    }
   ],
   "source": [
    "array1d[1:4]"
   ]
  },
  {
   "cell_type": "code",
   "execution_count": 31,
   "id": "34cad49e-c95c-4dde-8305-027ea453c8ca",
   "metadata": {},
   "outputs": [
    {
     "data": {
      "text/plain": [
       "array([7, 8])"
      ]
     },
     "execution_count": 31,
     "metadata": {},
     "output_type": "execute_result"
    }
   ],
   "source": [
    "array2d[2,:2]"
   ]
  },
  {
   "cell_type": "code",
   "execution_count": 39,
   "id": "919bd180-0208-4295-816b-213d450138f0",
   "metadata": {},
   "outputs": [
    {
     "data": {
      "text/plain": [
       "array([[2],\n",
       "       [5],\n",
       "       [8]])"
      ]
     },
     "execution_count": 39,
     "metadata": {},
     "output_type": "execute_result"
    }
   ],
   "source": [
    "array2d[:,1:2]"
   ]
  },
  {
   "cell_type": "code",
   "execution_count": null,
   "id": "3c3020a3-4448-4750-a791-9799e13ccca0",
   "metadata": {},
   "outputs": [],
   "source": []
  },
  {
   "cell_type": "code",
   "execution_count": 42,
   "id": "8b9fcb0b-870f-4cd3-9c6d-63b4e7195deb",
   "metadata": {},
   "outputs": [
    {
     "data": {
      "text/plain": [
       "array([False, False, False,  True,  True])"
      ]
     },
     "execution_count": 42,
     "metadata": {},
     "output_type": "execute_result"
    }
   ],
   "source": [
    "array1d > 3"
   ]
  },
  {
   "cell_type": "code",
   "execution_count": 44,
   "id": "652ec9be-6e9c-4ce7-a06e-2230fb1a5235",
   "metadata": {},
   "outputs": [
    {
     "data": {
      "text/plain": [
       "array([[False,  True, False],\n",
       "       [ True, False,  True],\n",
       "       [False,  True, False]])"
      ]
     },
     "execution_count": 44,
     "metadata": {},
     "output_type": "execute_result"
    }
   ],
   "source": [
    "array2d % 2 == 0"
   ]
  },
  {
   "cell_type": "code",
   "execution_count": null,
   "id": "f262a48c-1703-4bb5-97dd-121c95aef3f9",
   "metadata": {},
   "outputs": [],
   "source": []
  }
 ],
 "metadata": {
  "kernelspec": {
   "display_name": "Python [conda env:base] *",
   "language": "python",
   "name": "conda-base-py"
  },
  "language_info": {
   "codemirror_mode": {
    "name": "ipython",
    "version": 3
   },
   "file_extension": ".py",
   "mimetype": "text/x-python",
   "name": "python",
   "nbconvert_exporter": "python",
   "pygments_lexer": "ipython3",
   "version": "3.12.7"
  }
 },
 "nbformat": 4,
 "nbformat_minor": 5
}
