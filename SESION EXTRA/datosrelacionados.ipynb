{
 "cells": [
  {
   "cell_type": "code",
   "execution_count": 5,
   "id": "50fd327e-bc70-4554-9df6-196727205c06",
   "metadata": {},
   "outputs": [],
   "source": [
    "import pandas as pd"
   ]
  },
  {
   "cell_type": "code",
   "execution_count": 18,
   "id": "1186a692-fcf3-41c8-b788-43e0c4ce274a",
   "metadata": {},
   "outputs": [
    {
     "data": {
      "text/plain": [
       "0   2025-04-04\n",
       "1   2025-04-05\n",
       "2   2025-04-06\n",
       "3   2025-04-07\n",
       "4   2025-04-08\n",
       "5   2025-04-09\n",
       "dtype: datetime64[ns]"
      ]
     },
     "execution_count": 18,
     "metadata": {},
     "output_type": "execute_result"
    }
   ],
   "source": [
    "fechas = pd.Series(pd.date_range(\"20250404\", periods=6))\n",
    "fechas"
   ]
  },
  {
   "cell_type": "code",
   "execution_count": 21,
   "id": "d75e01d5-590f-4d5c-9e85-4e2f9dafb77f",
   "metadata": {},
   "outputs": [
    {
     "data": {
      "text/plain": [
       "pandas.core.series.Series"
      ]
     },
     "execution_count": 21,
     "metadata": {},
     "output_type": "execute_result"
    }
   ],
   "source": [
    "type(fechas)"
   ]
  },
  {
   "cell_type": "code",
   "execution_count": 23,
   "id": "eb079543-891b-4456-b38c-1d83eaf9334c",
   "metadata": {},
   "outputs": [
    {
     "data": {
      "text/plain": [
       "0   2025-04-04\n",
       "1   2025-04-05\n",
       "2   2025-04-06\n",
       "3   2025-04-07\n",
       "4   2025-04-08\n",
       "5   2025-04-09\n",
       "dtype: datetime64[ns]"
      ]
     },
     "execution_count": 23,
     "metadata": {},
     "output_type": "execute_result"
    }
   ],
   "source": [
    "fechas = pd.Series(pd.date_range(\"20250404\", periods=6, freq=\"D\"))\n",
    "fechas"
   ]
  },
  {
   "cell_type": "code",
   "execution_count": 31,
   "id": "c42e31e2-44d7-4bc7-8f6a-dbfb41043401",
   "metadata": {},
   "outputs": [
    {
     "data": {
      "text/plain": [
       "0   2025-04-30\n",
       "1   2025-05-31\n",
       "2   2025-06-30\n",
       "3   2025-07-31\n",
       "4   2025-08-31\n",
       "5   2025-09-30\n",
       "dtype: datetime64[ns]"
      ]
     },
     "execution_count": 31,
     "metadata": {},
     "output_type": "execute_result"
    }
   ],
   "source": [
    "fechas = pd.Series(pd.date_range(\"20250404\", periods=6, freq=\"ME\"))\n",
    "fechas"
   ]
  },
  {
   "cell_type": "code",
   "execution_count": 91,
   "id": "d8411dc3-c93e-4e8c-bd36-4de627575f3d",
   "metadata": {},
   "outputs": [
    {
     "data": {
      "text/plain": [
       "0   2025-12-31\n",
       "1   2026-12-31\n",
       "2   2027-12-31\n",
       "3   2028-12-31\n",
       "4   2029-12-31\n",
       "5   2030-12-31\n",
       "dtype: datetime64[ns]"
      ]
     },
     "execution_count": 91,
     "metadata": {},
     "output_type": "execute_result"
    }
   ],
   "source": [
    "fechas = pd.Series(pd.date_range(\"20250404\", periods=6, freq=\"YE\"))\n",
    "fechas"
   ]
  },
  {
   "cell_type": "code",
   "execution_count": 39,
   "id": "2808b923-ac30-447d-b52d-a32f3fc2971a",
   "metadata": {},
   "outputs": [
    {
     "data": {
      "text/plain": [
       "0   2025-04-04 00:00:00\n",
       "1   2025-04-04 01:00:00\n",
       "2   2025-04-04 02:00:00\n",
       "3   2025-04-04 03:00:00\n",
       "4   2025-04-04 04:00:00\n",
       "5   2025-04-04 05:00:00\n",
       "dtype: datetime64[ns]"
      ]
     },
     "execution_count": 39,
     "metadata": {},
     "output_type": "execute_result"
    }
   ],
   "source": [
    "fechas = pd.Series(pd.date_range(\"20250404\", periods=6, freq=\"h\"))\n",
    "fechas"
   ]
  },
  {
   "cell_type": "code",
   "execution_count": 43,
   "id": "ed032b38-0859-4f6f-9718-4d5c380cb3a1",
   "metadata": {},
   "outputs": [
    {
     "data": {
      "text/plain": [
       "0   2025-04-04 00:00:00\n",
       "1   2025-04-04 00:01:00\n",
       "2   2025-04-04 00:02:00\n",
       "3   2025-04-04 00:03:00\n",
       "4   2025-04-04 00:04:00\n",
       "5   2025-04-04 00:05:00\n",
       "dtype: datetime64[ns]"
      ]
     },
     "execution_count": 43,
     "metadata": {},
     "output_type": "execute_result"
    }
   ],
   "source": [
    "fechas = pd.Series(pd.date_range(\"20250404\", periods=6, freq=\"min\"))\n",
    "fechas"
   ]
  },
  {
   "cell_type": "code",
   "execution_count": 47,
   "id": "8adf8464-1fe9-4b28-9788-94d134c47bf3",
   "metadata": {},
   "outputs": [
    {
     "data": {
      "text/plain": [
       "0   2025-04-04 00:00:00\n",
       "1   2025-04-04 00:00:01\n",
       "2   2025-04-04 00:00:02\n",
       "3   2025-04-04 00:00:03\n",
       "4   2025-04-04 00:00:04\n",
       "5   2025-04-04 00:00:05\n",
       "dtype: datetime64[ns]"
      ]
     },
     "execution_count": 47,
     "metadata": {},
     "output_type": "execute_result"
    }
   ],
   "source": [
    "fechas = pd.Series(pd.date_range(\"20250404\", periods=6, freq=\"s\"))\n",
    "fechas"
   ]
  },
  {
   "cell_type": "code",
   "execution_count": null,
   "id": "b9510387-4719-4702-ad8b-96917d1fe81c",
   "metadata": {},
   "outputs": [],
   "source": []
  },
  {
   "cell_type": "code",
   "execution_count": 52,
   "id": "c0973d83-856c-48d8-8f47-33b61b838b99",
   "metadata": {},
   "outputs": [
    {
     "data": {
      "text/plain": [
       "0   2025-04-04\n",
       "1   2025-04-11\n",
       "2   2025-04-18\n",
       "3   2025-04-25\n",
       "4   2025-05-02\n",
       "5   2025-05-09\n",
       "dtype: datetime64[ns]"
      ]
     },
     "execution_count": 52,
     "metadata": {},
     "output_type": "execute_result"
    }
   ],
   "source": [
    "fechas = pd.Series(pd.date_range(\"20250404\", periods=6, freq=\"7D\"))\n",
    "fechas"
   ]
  },
  {
   "cell_type": "code",
   "execution_count": 63,
   "id": "8584b680-1f7a-4a44-98df-e6cd2238b187",
   "metadata": {},
   "outputs": [
    {
     "data": {
      "text/plain": [
       "pandas.core.series.Series"
      ]
     },
     "execution_count": 63,
     "metadata": {},
     "output_type": "execute_result"
    }
   ],
   "source": [
    "type(fechas)"
   ]
  },
  {
   "cell_type": "code",
   "execution_count": 57,
   "id": "deda6d1a-c374-497e-8118-aa100ce160e7",
   "metadata": {},
   "outputs": [
    {
     "data": {
      "text/html": [
       "<div>\n",
       "<style scoped>\n",
       "    .dataframe tbody tr th:only-of-type {\n",
       "        vertical-align: middle;\n",
       "    }\n",
       "\n",
       "    .dataframe tbody tr th {\n",
       "        vertical-align: top;\n",
       "    }\n",
       "\n",
       "    .dataframe thead th {\n",
       "        text-align: right;\n",
       "    }\n",
       "</style>\n",
       "<table border=\"1\" class=\"dataframe\">\n",
       "  <thead>\n",
       "    <tr style=\"text-align: right;\">\n",
       "      <th></th>\n",
       "      <th>Ticker</th>\n",
       "      <th>Fecha</th>\n",
       "      <th>Cierre</th>\n",
       "      <th>Referencia</th>\n",
       "      <th>Volumen</th>\n",
       "      <th>Rotacion</th>\n",
       "      <th>Ultimo</th>\n",
       "      <th>Alto</th>\n",
       "      <th>Bajo</th>\n",
       "      <th>Promedio</th>\n",
       "    </tr>\n",
       "  </thead>\n",
       "  <tbody>\n",
       "    <tr>\n",
       "      <th>0</th>\n",
       "      <td>ANA</td>\n",
       "      <td>02/01/2019</td>\n",
       "      <td>74.80</td>\n",
       "      <td>73.90</td>\n",
       "      <td>156300</td>\n",
       "      <td>11621188.98</td>\n",
       "      <td>74.80</td>\n",
       "      <td>75.16</td>\n",
       "      <td>72.38</td>\n",
       "      <td>74.3518</td>\n",
       "    </tr>\n",
       "    <tr>\n",
       "      <th>1</th>\n",
       "      <td>ANA</td>\n",
       "      <td>03/01/2019</td>\n",
       "      <td>76.34</td>\n",
       "      <td>74.80</td>\n",
       "      <td>140331</td>\n",
       "      <td>10632703.64</td>\n",
       "      <td>76.34</td>\n",
       "      <td>76.60</td>\n",
       "      <td>74.54</td>\n",
       "      <td>75.7687</td>\n",
       "    </tr>\n",
       "    <tr>\n",
       "      <th>2</th>\n",
       "      <td>ANA</td>\n",
       "      <td>04/01/2019</td>\n",
       "      <td>76.62</td>\n",
       "      <td>76.34</td>\n",
       "      <td>130309</td>\n",
       "      <td>10010838.76</td>\n",
       "      <td>76.62</td>\n",
       "      <td>77.40</td>\n",
       "      <td>76.40</td>\n",
       "      <td>76.8162</td>\n",
       "    </tr>\n",
       "    <tr>\n",
       "      <th>3</th>\n",
       "      <td>ANA</td>\n",
       "      <td>07/01/2019</td>\n",
       "      <td>77.14</td>\n",
       "      <td>76.62</td>\n",
       "      <td>63349</td>\n",
       "      <td>4855724.92</td>\n",
       "      <td>77.14</td>\n",
       "      <td>77.30</td>\n",
       "      <td>75.62</td>\n",
       "      <td>76.6504</td>\n",
       "    </tr>\n",
       "    <tr>\n",
       "      <th>4</th>\n",
       "      <td>ANA</td>\n",
       "      <td>08/01/2019</td>\n",
       "      <td>78.24</td>\n",
       "      <td>77.14</td>\n",
       "      <td>99300</td>\n",
       "      <td>7749464.70</td>\n",
       "      <td>78.24</td>\n",
       "      <td>78.46</td>\n",
       "      <td>77.00</td>\n",
       "      <td>78.0409</td>\n",
       "    </tr>\n",
       "    <tr>\n",
       "      <th>5</th>\n",
       "      <td>ANA</td>\n",
       "      <td>09/01/2019</td>\n",
       "      <td>77.64</td>\n",
       "      <td>78.24</td>\n",
       "      <td>111912</td>\n",
       "      <td>8661432.24</td>\n",
       "      <td>77.64</td>\n",
       "      <td>78.82</td>\n",
       "      <td>76.60</td>\n",
       "      <td>77.3950</td>\n",
       "    </tr>\n",
       "    <tr>\n",
       "      <th>6</th>\n",
       "      <td>ANA</td>\n",
       "      <td>10/01/2019</td>\n",
       "      <td>78.74</td>\n",
       "      <td>77.64</td>\n",
       "      <td>76146</td>\n",
       "      <td>5983497.62</td>\n",
       "      <td>78.74</td>\n",
       "      <td>78.88</td>\n",
       "      <td>77.52</td>\n",
       "      <td>78.5793</td>\n",
       "    </tr>\n",
       "    <tr>\n",
       "      <th>7</th>\n",
       "      <td>ANA</td>\n",
       "      <td>11/01/2019</td>\n",
       "      <td>79.08</td>\n",
       "      <td>78.74</td>\n",
       "      <td>86809</td>\n",
       "      <td>6860996.34</td>\n",
       "      <td>79.08</td>\n",
       "      <td>79.70</td>\n",
       "      <td>78.54</td>\n",
       "      <td>79.0355</td>\n",
       "    </tr>\n",
       "    <tr>\n",
       "      <th>8</th>\n",
       "      <td>ANA</td>\n",
       "      <td>14/01/2019</td>\n",
       "      <td>79.28</td>\n",
       "      <td>79.08</td>\n",
       "      <td>97419</td>\n",
       "      <td>7700806.90</td>\n",
       "      <td>79.28</td>\n",
       "      <td>79.62</td>\n",
       "      <td>78.32</td>\n",
       "      <td>79.0483</td>\n",
       "    </tr>\n",
       "    <tr>\n",
       "      <th>9</th>\n",
       "      <td>ANA</td>\n",
       "      <td>15/01/2019</td>\n",
       "      <td>80.00</td>\n",
       "      <td>79.28</td>\n",
       "      <td>71241</td>\n",
       "      <td>5681059.56</td>\n",
       "      <td>80.00</td>\n",
       "      <td>80.00</td>\n",
       "      <td>79.32</td>\n",
       "      <td>79.7442</td>\n",
       "    </tr>\n",
       "  </tbody>\n",
       "</table>\n",
       "</div>"
      ],
      "text/plain": [
       "  Ticker       Fecha  Cierre  Referencia  Volumen     Rotacion  Ultimo   Alto  \\\n",
       "0    ANA  02/01/2019   74.80       73.90   156300  11621188.98   74.80  75.16   \n",
       "1    ANA  03/01/2019   76.34       74.80   140331  10632703.64   76.34  76.60   \n",
       "2    ANA  04/01/2019   76.62       76.34   130309  10010838.76   76.62  77.40   \n",
       "3    ANA  07/01/2019   77.14       76.62    63349   4855724.92   77.14  77.30   \n",
       "4    ANA  08/01/2019   78.24       77.14    99300   7749464.70   78.24  78.46   \n",
       "5    ANA  09/01/2019   77.64       78.24   111912   8661432.24   77.64  78.82   \n",
       "6    ANA  10/01/2019   78.74       77.64    76146   5983497.62   78.74  78.88   \n",
       "7    ANA  11/01/2019   79.08       78.74    86809   6860996.34   79.08  79.70   \n",
       "8    ANA  14/01/2019   79.28       79.08    97419   7700806.90   79.28  79.62   \n",
       "9    ANA  15/01/2019   80.00       79.28    71241   5681059.56   80.00  80.00   \n",
       "\n",
       "    Bajo  Promedio  \n",
       "0  72.38   74.3518  \n",
       "1  74.54   75.7687  \n",
       "2  76.40   76.8162  \n",
       "3  75.62   76.6504  \n",
       "4  77.00   78.0409  \n",
       "5  76.60   77.3950  \n",
       "6  77.52   78.5793  \n",
       "7  78.54   79.0355  \n",
       "8  78.32   79.0483  \n",
       "9  79.32   79.7442  "
      ]
     },
     "execution_count": 57,
     "metadata": {},
     "output_type": "execute_result"
    }
   ],
   "source": [
    "ruta = \"C:/DS Python/D2Mercad-Valores-ES.csv\"\n",
    "df = pd.read_csv(ruta)\n",
    "df.head(10)"
   ]
  },
  {
   "cell_type": "code",
   "execution_count": 59,
   "id": "ff94faaf-5534-438f-b51a-1bc69a09a4c0",
   "metadata": {},
   "outputs": [
    {
     "data": {
      "text/plain": [
       "'02/01/2019'"
      ]
     },
     "execution_count": 59,
     "metadata": {},
     "output_type": "execute_result"
    }
   ],
   "source": [
    " df[\"Fecha\"][0]"
   ]
  },
  {
   "cell_type": "code",
   "execution_count": 61,
   "id": "3ffb0a9b-0202-45c2-90ac-8414eaa5d366",
   "metadata": {},
   "outputs": [
    {
     "data": {
      "text/plain": [
       "str"
      ]
     },
     "execution_count": 61,
     "metadata": {},
     "output_type": "execute_result"
    }
   ],
   "source": [
    "type( df[\"Fecha\"][0])"
   ]
  },
  {
   "cell_type": "code",
   "execution_count": 87,
   "id": "8d728fe5-2413-42c9-826b-f1780877af36",
   "metadata": {
    "scrolled": true
   },
   "outputs": [
    {
     "data": {
      "text/html": [
       "<div>\n",
       "<style scoped>\n",
       "    .dataframe tbody tr th:only-of-type {\n",
       "        vertical-align: middle;\n",
       "    }\n",
       "\n",
       "    .dataframe tbody tr th {\n",
       "        vertical-align: top;\n",
       "    }\n",
       "\n",
       "    .dataframe thead th {\n",
       "        text-align: right;\n",
       "    }\n",
       "</style>\n",
       "<table border=\"1\" class=\"dataframe\">\n",
       "  <thead>\n",
       "    <tr style=\"text-align: right;\">\n",
       "      <th></th>\n",
       "      <th>Ticker</th>\n",
       "      <th>Fecha</th>\n",
       "      <th>Cierre</th>\n",
       "      <th>Referencia</th>\n",
       "      <th>Volumen</th>\n",
       "      <th>Rotacion</th>\n",
       "      <th>Ultimo</th>\n",
       "      <th>Alto</th>\n",
       "      <th>Bajo</th>\n",
       "      <th>Promedio</th>\n",
       "    </tr>\n",
       "  </thead>\n",
       "  <tbody>\n",
       "    <tr>\n",
       "      <th>0</th>\n",
       "      <td>ANA</td>\n",
       "      <td>2019-01-02</td>\n",
       "      <td>74.80</td>\n",
       "      <td>73.90</td>\n",
       "      <td>156300</td>\n",
       "      <td>11621188.98</td>\n",
       "      <td>74.80</td>\n",
       "      <td>75.16</td>\n",
       "      <td>72.38</td>\n",
       "      <td>74.3518</td>\n",
       "    </tr>\n",
       "    <tr>\n",
       "      <th>1</th>\n",
       "      <td>ANA</td>\n",
       "      <td>2019-01-03</td>\n",
       "      <td>76.34</td>\n",
       "      <td>74.80</td>\n",
       "      <td>140331</td>\n",
       "      <td>10632703.64</td>\n",
       "      <td>76.34</td>\n",
       "      <td>76.60</td>\n",
       "      <td>74.54</td>\n",
       "      <td>75.7687</td>\n",
       "    </tr>\n",
       "    <tr>\n",
       "      <th>2</th>\n",
       "      <td>ANA</td>\n",
       "      <td>2019-01-04</td>\n",
       "      <td>76.62</td>\n",
       "      <td>76.34</td>\n",
       "      <td>130309</td>\n",
       "      <td>10010838.76</td>\n",
       "      <td>76.62</td>\n",
       "      <td>77.40</td>\n",
       "      <td>76.40</td>\n",
       "      <td>76.8162</td>\n",
       "    </tr>\n",
       "    <tr>\n",
       "      <th>3</th>\n",
       "      <td>ANA</td>\n",
       "      <td>2019-01-07</td>\n",
       "      <td>77.14</td>\n",
       "      <td>76.62</td>\n",
       "      <td>63349</td>\n",
       "      <td>4855724.92</td>\n",
       "      <td>77.14</td>\n",
       "      <td>77.30</td>\n",
       "      <td>75.62</td>\n",
       "      <td>76.6504</td>\n",
       "    </tr>\n",
       "    <tr>\n",
       "      <th>4</th>\n",
       "      <td>ANA</td>\n",
       "      <td>2019-01-08</td>\n",
       "      <td>78.24</td>\n",
       "      <td>77.14</td>\n",
       "      <td>99300</td>\n",
       "      <td>7749464.70</td>\n",
       "      <td>78.24</td>\n",
       "      <td>78.46</td>\n",
       "      <td>77.00</td>\n",
       "      <td>78.0409</td>\n",
       "    </tr>\n",
       "    <tr>\n",
       "      <th>...</th>\n",
       "      <td>...</td>\n",
       "      <td>...</td>\n",
       "      <td>...</td>\n",
       "      <td>...</td>\n",
       "      <td>...</td>\n",
       "      <td>...</td>\n",
       "      <td>...</td>\n",
       "      <td>...</td>\n",
       "      <td>...</td>\n",
       "      <td>...</td>\n",
       "    </tr>\n",
       "    <tr>\n",
       "      <th>8570</th>\n",
       "      <td>VIS</td>\n",
       "      <td>2019-12-09</td>\n",
       "      <td>48.70</td>\n",
       "      <td>48.76</td>\n",
       "      <td>40236</td>\n",
       "      <td>1958325.66</td>\n",
       "      <td>48.70</td>\n",
       "      <td>48.96</td>\n",
       "      <td>48.44</td>\n",
       "      <td>48.6710</td>\n",
       "    </tr>\n",
       "    <tr>\n",
       "      <th>8571</th>\n",
       "      <td>VIS</td>\n",
       "      <td>2019-12-10</td>\n",
       "      <td>48.16</td>\n",
       "      <td>48.70</td>\n",
       "      <td>60198</td>\n",
       "      <td>2895965.78</td>\n",
       "      <td>48.16</td>\n",
       "      <td>48.74</td>\n",
       "      <td>47.70</td>\n",
       "      <td>48.1201</td>\n",
       "    </tr>\n",
       "    <tr>\n",
       "      <th>8572</th>\n",
       "      <td>VIS</td>\n",
       "      <td>2019-12-11</td>\n",
       "      <td>47.96</td>\n",
       "      <td>48.16</td>\n",
       "      <td>63000</td>\n",
       "      <td>3012462.12</td>\n",
       "      <td>47.96</td>\n",
       "      <td>48.42</td>\n",
       "      <td>47.52</td>\n",
       "      <td>47.8169</td>\n",
       "    </tr>\n",
       "    <tr>\n",
       "      <th>8573</th>\n",
       "      <td>VIS</td>\n",
       "      <td>2019-12-12</td>\n",
       "      <td>48.42</td>\n",
       "      <td>47.96</td>\n",
       "      <td>50218</td>\n",
       "      <td>2429199.80</td>\n",
       "      <td>48.42</td>\n",
       "      <td>48.66</td>\n",
       "      <td>47.76</td>\n",
       "      <td>48.3731</td>\n",
       "    </tr>\n",
       "    <tr>\n",
       "      <th>8574</th>\n",
       "      <td>VIS</td>\n",
       "      <td>2019-12-13</td>\n",
       "      <td>48.64</td>\n",
       "      <td>48.42</td>\n",
       "      <td>62427</td>\n",
       "      <td>3038685.10</td>\n",
       "      <td>48.64</td>\n",
       "      <td>49.18</td>\n",
       "      <td>48.12</td>\n",
       "      <td>48.6758</td>\n",
       "    </tr>\n",
       "  </tbody>\n",
       "</table>\n",
       "<p>8575 rows × 10 columns</p>\n",
       "</div>"
      ],
      "text/plain": [
       "     Ticker      Fecha  Cierre  Referencia  Volumen     Rotacion  Ultimo  \\\n",
       "0       ANA 2019-01-02   74.80       73.90   156300  11621188.98   74.80   \n",
       "1       ANA 2019-01-03   76.34       74.80   140331  10632703.64   76.34   \n",
       "2       ANA 2019-01-04   76.62       76.34   130309  10010838.76   76.62   \n",
       "3       ANA 2019-01-07   77.14       76.62    63349   4855724.92   77.14   \n",
       "4       ANA 2019-01-08   78.24       77.14    99300   7749464.70   78.24   \n",
       "...     ...        ...     ...         ...      ...          ...     ...   \n",
       "8570    VIS 2019-12-09   48.70       48.76    40236   1958325.66   48.70   \n",
       "8571    VIS 2019-12-10   48.16       48.70    60198   2895965.78   48.16   \n",
       "8572    VIS 2019-12-11   47.96       48.16    63000   3012462.12   47.96   \n",
       "8573    VIS 2019-12-12   48.42       47.96    50218   2429199.80   48.42   \n",
       "8574    VIS 2019-12-13   48.64       48.42    62427   3038685.10   48.64   \n",
       "\n",
       "       Alto   Bajo  Promedio  \n",
       "0     75.16  72.38   74.3518  \n",
       "1     76.60  74.54   75.7687  \n",
       "2     77.40  76.40   76.8162  \n",
       "3     77.30  75.62   76.6504  \n",
       "4     78.46  77.00   78.0409  \n",
       "...     ...    ...       ...  \n",
       "8570  48.96  48.44   48.6710  \n",
       "8571  48.74  47.70   48.1201  \n",
       "8572  48.42  47.52   47.8169  \n",
       "8573  48.66  47.76   48.3731  \n",
       "8574  49.18  48.12   48.6758  \n",
       "\n",
       "[8575 rows x 10 columns]"
      ]
     },
     "execution_count": 87,
     "metadata": {},
     "output_type": "execute_result"
    }
   ],
   "source": [
    "df[\"Fecha\"] = pd.to_datetime(df[\"Fecha\"], format = \"%d/%m/%Y\")\n",
    "df"
   ]
  },
  {
   "cell_type": "code",
   "execution_count": 93,
   "id": "0582c506-ff19-4169-84ee-5ab9c0fe239a",
   "metadata": {},
   "outputs": [
    {
     "data": {
      "text/plain": [
       "Timestamp('2019-01-02 00:00:00')"
      ]
     },
     "execution_count": 93,
     "metadata": {},
     "output_type": "execute_result"
    }
   ],
   "source": [
    "df[\"Fecha\"][0]"
   ]
  },
  {
   "cell_type": "code",
   "execution_count": 95,
   "id": "eca456a4-7e6a-48c3-a9b2-f74d5f51eb7e",
   "metadata": {},
   "outputs": [
    {
     "data": {
      "text/plain": [
       "pandas._libs.tslibs.timestamps.Timestamp"
      ]
     },
     "execution_count": 95,
     "metadata": {},
     "output_type": "execute_result"
    }
   ],
   "source": [
    "type(df[\"Fecha\"][0])"
   ]
  },
  {
   "cell_type": "code",
   "execution_count": 103,
   "id": "1dd7c05c-2016-43ee-891f-87ad69497f1f",
   "metadata": {},
   "outputs": [
    {
     "data": {
      "text/plain": [
       "Timestamp('2019-01-08 00:00:00')"
      ]
     },
     "execution_count": 103,
     "metadata": {},
     "output_type": "execute_result"
    }
   ],
   "source": [
    "df[\"Fecha\"][4]"
   ]
  },
  {
   "cell_type": "code",
   "execution_count": 105,
   "id": "aa987625-e35c-49ca-b502-5d3dd79e5213",
   "metadata": {},
   "outputs": [
    {
     "data": {
      "text/plain": [
       "2019"
      ]
     },
     "execution_count": 105,
     "metadata": {},
     "output_type": "execute_result"
    }
   ],
   "source": [
    "df[\"Fecha\"][4].year"
   ]
  },
  {
   "cell_type": "code",
   "execution_count": 107,
   "id": "5a6cfb01-3793-4d70-a411-a64b4a66f45f",
   "metadata": {},
   "outputs": [
    {
     "data": {
      "text/plain": [
       "1"
      ]
     },
     "execution_count": 107,
     "metadata": {},
     "output_type": "execute_result"
    }
   ],
   "source": [
    "df[\"Fecha\"][4].month"
   ]
  },
  {
   "cell_type": "code",
   "execution_count": 109,
   "id": "2e299260-ac4f-45ef-857d-232c9fb08f41",
   "metadata": {},
   "outputs": [
    {
     "data": {
      "text/plain": [
       "8"
      ]
     },
     "execution_count": 109,
     "metadata": {},
     "output_type": "execute_result"
    }
   ],
   "source": [
    "df[\"Fecha\"][4].day"
   ]
  },
  {
   "cell_type": "code",
   "execution_count": 111,
   "id": "52842d89-d81d-4c6a-a7e5-635d831d8b82",
   "metadata": {},
   "outputs": [
    {
     "data": {
      "text/plain": [
       "0"
      ]
     },
     "execution_count": 111,
     "metadata": {},
     "output_type": "execute_result"
    }
   ],
   "source": [
    "df[\"Fecha\"][4].hour"
   ]
  },
  {
   "cell_type": "code",
   "execution_count": 113,
   "id": "a5e9c903-b17f-4e4f-94b4-6946b058a2cb",
   "metadata": {},
   "outputs": [
    {
     "data": {
      "text/plain": [
       "0"
      ]
     },
     "execution_count": 113,
     "metadata": {},
     "output_type": "execute_result"
    }
   ],
   "source": [
    "df[\"Fecha\"][4].second"
   ]
  },
  {
   "cell_type": "code",
   "execution_count": 117,
   "id": "9ae21264-ec66-4686-8b95-b21d3a70fcd0",
   "metadata": {},
   "outputs": [
    {
     "data": {
      "text/plain": [
       "0"
      ]
     },
     "execution_count": 117,
     "metadata": {},
     "output_type": "execute_result"
    }
   ],
   "source": [
    "df[\"Fecha\"][4].minute"
   ]
  },
  {
   "cell_type": "code",
   "execution_count": null,
   "id": "0bf3f4da-437a-4d51-8059-a58478a8aec1",
   "metadata": {},
   "outputs": [],
   "source": []
  }
 ],
 "metadata": {
  "kernelspec": {
   "display_name": "Python [conda env:base] *",
   "language": "python",
   "name": "conda-base-py"
  },
  "language_info": {
   "codemirror_mode": {
    "name": "ipython",
    "version": 3
   },
   "file_extension": ".py",
   "mimetype": "text/x-python",
   "name": "python",
   "nbconvert_exporter": "python",
   "pygments_lexer": "ipython3",
   "version": "3.12.7"
  }
 },
 "nbformat": 4,
 "nbformat_minor": 5
}
